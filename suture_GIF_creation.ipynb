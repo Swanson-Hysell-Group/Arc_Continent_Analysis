{
 "cells": [
  {
   "cell_type": "markdown",
   "metadata": {},
   "source": [
    "# Reconstruction GIF creation\n",
    "This notebook using the imageio package to create GIFs from the paleogeographic snapshot images developed in the suture_analysis.ipynb notebook"
   ]
  },
  {
   "cell_type": "code",
   "execution_count": 1,
   "metadata": {},
   "outputs": [],
   "source": [
    "import imageio"
   ]
  },
  {
   "cell_type": "code",
   "execution_count": 8,
   "metadata": {},
   "outputs": [],
   "source": [
    "recon_image_list = []\n",
    "\n",
    "for t in range(0,505,5):\n",
    "    image_name = 'figures/recon' + str(t) + '.png'\n",
    "    recon_image_list.append(image_name)\n",
    "    \n",
    "recon_image_list.reverse()\n",
    "    \n",
    "images = []\n",
    "\n",
    "for image_name in recon_image_list:\n",
    "    images.append(imageio.imread(image_name))\n",
    "    \n",
    "imageio.mimsave('code_output/reconstruction.gif', images, duration=0.5)\n",
    "imageio.mimsave('code_output/reconstruction.mp4', images, fps=3)"
   ]
  },
  {
   "cell_type": "code",
   "execution_count": 9,
   "metadata": {},
   "outputs": [],
   "source": [
    "recon_image_list = []\n",
    "\n",
    "for t in range(0,505,5):\n",
    "    image_name = 'figures/recon_ice' + str(t) + '.png'\n",
    "    recon_image_list.append(image_name)\n",
    "    \n",
    "recon_image_list.reverse()\n",
    "    \n",
    "images = []\n",
    "\n",
    "for image_name in recon_image_list:\n",
    "    images.append(imageio.imread(image_name))\n",
    "    \n",
    "imageio.mimsave('code_output/reconstruction_ice.gif', images, duration=0.5)\n",
    "imageio.mimsave('code_output/reconstruction_ice.mp4', images, fps=3)"
   ]
  }
 ],
 "metadata": {
  "kernelspec": {
   "display_name": "Python 3",
   "language": "python",
   "name": "python3"
  },
  "language_info": {
   "codemirror_mode": {
    "name": "ipython",
    "version": 3
   },
   "file_extension": ".py",
   "mimetype": "text/x-python",
   "name": "python",
   "nbconvert_exporter": "python",
   "pygments_lexer": "ipython3",
   "version": "3.6.7"
  }
 },
 "nbformat": 4,
 "nbformat_minor": 2
}
